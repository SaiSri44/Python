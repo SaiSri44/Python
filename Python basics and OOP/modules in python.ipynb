{
 "cells": [
  {
   "cell_type": "code",
   "execution_count": 1,
   "metadata": {},
   "outputs": [
    {
     "name": "stdout",
     "output_type": "stream",
     "text": [
      "[6, 5, 4, 3, 1, 2]\n"
     ]
    }
   ],
   "source": [
    "#shuffling \n",
    "#shuffling does n't returns anything..\n",
    "#here mdule is random\n",
    "list1 = [1,2,3,4,5,6]\n",
    "from random import shuffle \n",
    "shuffle(list1)\n",
    "print(list1)    "
   ]
  },
  {
   "cell_type": "code",
   "execution_count": 2,
   "metadata": {},
   "outputs": [
    {
     "name": "stdout",
     "output_type": "stream",
     "text": [
      "2020-08-22 18:02:24.060119\n",
      "2020-08-22\n",
      "2020-07-31\n",
      "hour = 11\n",
      "minute = 34\n",
      "second = 56\n",
      "microsecond = 0\n",
      "t3 = 201 days, 0:00:00\n",
      "t6 = -333 days, 1:14:20\n",
      "type of t3 = <class 'datetime.timedelta'>\n",
      "type of t6 = <class 'datetime.timedelta'>\n",
      "time: 18:02:24\n",
      "s1: 08/22/2020, 18:02:24\n",
      "s2: 22/08/2020, 18:02:24\n",
      "2021-02-03\n",
      "2020-02-03\n"
     ]
    }
   ],
   "source": [
    " # Date time module in python have diffrent classess..\n",
    "#Among them 1.datetime ,2.date,3.class 4.timedelta classess are popular\n",
    "import datetime #importing datetime module..\n",
    "print(datetime.datetime.now())\n",
    "#Here, we have imported datetime module using import datetime statement.\n",
    "#One of the classes defined in the datetime module is datetime class. We then used now() method to create a datetime object containing the current local date and time.\n",
    "print(datetime.date.today())\n",
    "#In this program, we have used today() method defined in the date class to get a date object containing the current local date.\n",
    "from datetime import date \n",
    "today_date = date(2020,7,31) #date class has three arguments,they are like attributes in class,whereas today is the mthod in teh classs\n",
    "\n",
    "print(today_date)\n",
    "from datetime import time\n",
    "\n",
    "a = time(11, 34, 56)\n",
    "\n",
    "print(\"hour =\", a.hour)\n",
    "print(\"minute =\", a.minute)\n",
    "print(\"second =\", a.second)\n",
    "print(\"microsecond =\", a.microsecond)\n",
    "#hour ,minute,second,microsecond are attributes in time class\n",
    "#time delta class\n",
    "from datetime import datetime, date\n",
    "\n",
    "t1 = date(2018, 7, 12) #attributes in date class..\n",
    "t2 = date(2017, 12, 23)\n",
    "t3 = t1 - t2\n",
    "print(\"t3 =\", t3)\n",
    "\n",
    "t4 = datetime(year = 2018, month = 7, day = 12, hour = 7, minute = 9, second = 33)\n",
    "t5 = datetime(year = 2019, month = 6, day = 10, hour = 5, minute = 55, second = 13)\n",
    "t6 = t4 - t5\n",
    "print(\"t6 =\", t6)\n",
    "\n",
    "print(\"type of t3 =\", type(t3)) \n",
    "print(\"type of t6 =\", type(t6))  \n",
    "#The strftime() method is defined under classes date, datetime and time. The method creates a formatted string from a given date, datetime or time object.\n",
    "from datetime import datetime\n",
    "\n",
    "# current date and time\n",
    "now = datetime.now()\n",
    "\n",
    "t = now.strftime(\"%H:%M:%S\")\n",
    "print(\"time:\", t)\n",
    "\n",
    "s1 = now.strftime(\"%m/%d/%Y, %H:%M:%S\")\n",
    "# mm/dd/YY H:M:S format\n",
    "print(\"s1:\", s1)\n",
    "\n",
    "s2 = now.strftime(\"%d/%m/%Y, %H:%M:%S\")\n",
    "# dd/mm/YY H:M:S format\n",
    "print(\"s2:\", s2)\n",
    "#suppose if we accidently entered the wrong any attribute,we can change it by using replace func\n",
    "#suppose\n",
    "a1 = date(2021,2,3)#here i accidently entered 2021 instead of 2020 ,so we can change it by replace func\n",
    "print(a1)\n",
    "a1 = a1.replace(year = 2020) #using reolace func to replace year...\n",
    "print(a1)"
   ]
  },
  {
   "cell_type": "code",
   "execution_count": 3,
   "metadata": {},
   "outputs": [
    {
     "name": "stdout",
     "output_type": "stream",
     "text": [
      "2\n",
      "[3, 4, 1, 5, 2]\n",
      "4\n",
      "0.3813346942113168\n"
     ]
    }
   ],
   "source": [
    "#grabing random integer in the range\n",
    "import random\n",
    "result = random.randint(1,18)\n",
    "print(result)\n",
    "list1 = [1,2,3,4,5]\n",
    "random.shuffle(list1) #shuffle the list\n",
    "print(list1)\n",
    "ranchoice = random.choice(list1) #chooses a element from the lists..\n",
    "print(ranchoice)\n",
    "ran = random.random() # returns a value between 0.0 <= x <1.0\n",
    "print(ran) "
   ]
  },
  {
   "cell_type": "code",
   "execution_count": 4,
   "metadata": {},
   "outputs": [
    {
     "name": "stdout",
     "output_type": "stream",
     "text": [
      "[17, 16, 13, 8, 4, 7, 10, 19, 13, 20]\n",
      "[6, 13, 14, 18, 20, 11, 17, 3, 15, 8]\n"
     ]
    }
   ],
   "source": [
    "import random\n",
    "#suppose if we want to grab multiple random ints from list we use choices func \n",
    "#there are two posiibilites in getting them,\n",
    "#1.getting random ints in which some are identical ,or duplicate ,this is known as with replacement..\n",
    "#2..getting random ints in which no one are identical ,or duplicate ,this is known as without replacement.\n",
    "mylist = [x for x in range(1,21)]\n",
    "mylist2 = random.choices(population = mylist,k = 10) \n",
    "#choices take two arguments,population mean from where we getting or source,k mean \n",
    "#no of items we want..\n",
    "print(mylist2) #you can see repeated nums..\n",
    "#we use sample func for getting nums without repeating..\n",
    "mylist3 = random.sample(population = mylist, k=10)\n",
    "print(mylist3) #you can't find duplicae nums.."
   ]
  },
  {
   "cell_type": "code",
   "execution_count": 5,
   "metadata": {},
   "outputs": [
    {
     "data": {
      "text/plain": [
       "49.544395465174944"
      ]
     },
     "execution_count": 5,
     "metadata": {},
     "output_type": "execute_result"
    }
   ],
   "source": [
    "random.uniform(1,100) #uniform mean unifrom distribution,there is equal probability of getting every numin the range including floats \n",
    "#so it is known as uniform.."
   ]
  },
  {
   "cell_type": "code",
   "execution_count": 6,
   "metadata": {},
   "outputs": [
    {
     "name": "stdout",
     "output_type": "stream",
     "text": [
      "Angajala\n"
     ]
    }
   ],
   "source": [
    "#clear function ,it clears the screen\n",
    "#in case of jupiter notebooks clear_output() is used ,in case of other IDE's we use print('\\n'*100)\n",
    "from IPython.display import clear_output\n",
    "print('sai')\n",
    "clear_output() #calliing \n",
    "print('Angajala')\n",
    "#here first sai will print ,as we used clear_output() it will clear the screen and prints after that,so we cannot see the\n",
    "#sai output here\n",
    "#Incase of other IDE's print('\\n'*100) is used..it is acually give 100 line space which appears as clear screen.."
   ]
  },
  {
   "cell_type": "code",
   "execution_count": 7,
   "metadata": {},
   "outputs": [
    {
     "name": "stdout",
     "output_type": "stream",
     "text": [
      "abcdefghijklmnopqrstuvwxyzABCDEFGHIJKLMNOPQRSTUVWXYZ\n",
      "0123456789\n",
      "abcdefghijklmnopqrstuvwxyz\n",
      "ABCDEFGHIJKLMNOPQRSTUVWXYZ\n",
      "<function capwords at 0x000002A550163438>\n",
      "01234567\n",
      "0123456789abcdefABCDEF\n"
     ]
    }
   ],
   "source": [
    "import string #we importing string module\n",
    "print(string.ascii_letters) #string.ascii_characters mean smaller case and upper alphabets together ,this is an attribute...\n",
    "print(string.digits) #this is also an attribute of string class having value equal to 0to9 digits..\n",
    "print(string.ascii_lowercase) #it is an another attribute\n",
    "print(string.ascii_uppercase)\n",
    "print(string.capwords) #cappword is a method.. if we press tab after the string. we can find the list of attributes & methods.\n",
    "print(string.octdigits)\n",
    "print(string.hexdigits)"
   ]
  },
  {
   "cell_type": "code",
   "execution_count": 8,
   "metadata": {},
   "outputs": [
    {
     "name": "stdout",
     "output_type": "stream",
     "text": [
      "enter the year : 2020\n",
      "enter the month : 8\n",
      "    August 2020\n",
      "Mo Tu We Th Fr Sa Su\n",
      "                1  2\n",
      " 3  4  5  6  7  8  9\n",
      "10 11 12 13 14 15 16\n",
      "17 18 19 20 21 22 23\n",
      "24 25 26 27 28 29 30\n",
      "31\n",
      "\n"
     ]
    }
   ],
   "source": [
    "#calendar module \n",
    "import calendar\n",
    "year = int(input(\"enter the year : \"))\n",
    "month = int(input(\"enter the month : \"))\n",
    "print(calendar.month(year,month))  "
   ]
  },
  {
   "cell_type": "code",
   "execution_count": 9,
   "metadata": {},
   "outputs": [
    {
     "name": "stdout",
     "output_type": "stream",
     "text": [
      "                                  2020\n",
      "\n",
      "      January                   February                   March\n",
      "Mo Tu We Th Fr Sa Su      Mo Tu We Th Fr Sa Su      Mo Tu We Th Fr Sa Su\n",
      "       1  2  3  4  5                      1  2                         1\n",
      " 6  7  8  9 10 11 12       3  4  5  6  7  8  9       2  3  4  5  6  7  8\n",
      "13 14 15 16 17 18 19      10 11 12 13 14 15 16       9 10 11 12 13 14 15\n",
      "20 21 22 23 24 25 26      17 18 19 20 21 22 23      16 17 18 19 20 21 22\n",
      "27 28 29 30 31            24 25 26 27 28 29         23 24 25 26 27 28 29\n",
      "                                                    30 31\n",
      "\n",
      "       April                      May                       June\n",
      "Mo Tu We Th Fr Sa Su      Mo Tu We Th Fr Sa Su      Mo Tu We Th Fr Sa Su\n",
      "       1  2  3  4  5                   1  2  3       1  2  3  4  5  6  7\n",
      " 6  7  8  9 10 11 12       4  5  6  7  8  9 10       8  9 10 11 12 13 14\n",
      "13 14 15 16 17 18 19      11 12 13 14 15 16 17      15 16 17 18 19 20 21\n",
      "20 21 22 23 24 25 26      18 19 20 21 22 23 24      22 23 24 25 26 27 28\n",
      "27 28 29 30               25 26 27 28 29 30 31      29 30\n",
      "\n",
      "        July                     August                  September\n",
      "Mo Tu We Th Fr Sa Su      Mo Tu We Th Fr Sa Su      Mo Tu We Th Fr Sa Su\n",
      "       1  2  3  4  5                      1  2          1  2  3  4  5  6\n",
      " 6  7  8  9 10 11 12       3  4  5  6  7  8  9       7  8  9 10 11 12 13\n",
      "13 14 15 16 17 18 19      10 11 12 13 14 15 16      14 15 16 17 18 19 20\n",
      "20 21 22 23 24 25 26      17 18 19 20 21 22 23      21 22 23 24 25 26 27\n",
      "27 28 29 30 31            24 25 26 27 28 29 30      28 29 30\n",
      "                          31\n",
      "\n",
      "      October                   November                  December\n",
      "Mo Tu We Th Fr Sa Su      Mo Tu We Th Fr Sa Su      Mo Tu We Th Fr Sa Su\n",
      "          1  2  3  4                         1          1  2  3  4  5  6\n",
      " 5  6  7  8  9 10 11       2  3  4  5  6  7  8       7  8  9 10 11 12 13\n",
      "12 13 14 15 16 17 18       9 10 11 12 13 14 15      14 15 16 17 18 19 20\n",
      "19 20 21 22 23 24 25      16 17 18 19 20 21 22      21 22 23 24 25 26 27\n",
      "26 27 28 29 30 31         23 24 25 26 27 28 29      28 29 30 31\n",
      "                          30\n",
      "\n"
     ]
    }
   ],
   "source": [
    "from calendar import calendar\n",
    "print(calendar(2020)) #calendar module has calendar as one of its class"
   ]
  },
  {
   "cell_type": "code",
   "execution_count": 10,
   "metadata": {},
   "outputs": [
    {
     "data": {
      "text/plain": [
       "Counter({1: 4, 2: 4, 3: 5, 7: 1})"
      ]
     },
     "execution_count": 10,
     "metadata": {},
     "output_type": "execute_result"
    }
   ],
   "source": [
    "#collections module \n",
    "#counter in collections modle ,is used to find out the occurancesof char,num in data types..\n",
    "from collections import Counter #note c in counter is captial\n",
    "list1 = [1,2,3,3,3,3,3,2,2,2,1,1,1,7]\n",
    "Counter(list1) #see the output..it returns a dictonary having keys as nums,and values are it occurences"
   ]
  },
  {
   "cell_type": "code",
   "execution_count": 11,
   "metadata": {},
   "outputs": [
    {
     "data": {
      "text/plain": [
       "Counter({'s': 2, 'a': 1, 'i': 2, 'r': 1})"
      ]
     },
     "execution_count": 11,
     "metadata": {},
     "output_type": "execute_result"
    }
   ],
   "source": [
    "string  = 'saisri'\n",
    "c = Counter(string) #can apply on strings too\n",
    "c"
   ]
  },
  {
   "cell_type": "code",
   "execution_count": 12,
   "metadata": {},
   "outputs": [
    {
     "data": {
      "text/plain": [
       "[('s', 2), ('i', 2), ('a', 1), ('r', 1)]"
      ]
     },
     "execution_count": 12,
     "metadata": {},
     "output_type": "execute_result"
    }
   ],
   "source": [
    "c.most_common() #if we press tab after the object c we would get the list of methods and atributes defined..most_common is one\n",
    "#it returns a list containing tuples as elements ,with most occcuring element a first element.."
   ]
  },
  {
   "cell_type": "code",
   "execution_count": 13,
   "metadata": {},
   "outputs": [
    {
     "data": {
      "text/plain": [
       "['s', 'a', 'i', 'r']"
      ]
     },
     "execution_count": 13,
     "metadata": {},
     "output_type": "execute_result"
    }
   ],
   "source": [
    "list(c) #returns the list of unique elements.."
   ]
  },
  {
   "cell_type": "code",
   "execution_count": 14,
   "metadata": {},
   "outputs": [
    {
     "data": {
      "text/plain": [
       "['a', 'n', 'v', 'c', 's', 'i', 'e', 'w', 'd', 'l', 'f', 'b', 'g']"
      ]
     },
     "execution_count": 14,
     "metadata": {},
     "output_type": "execute_result"
    }
   ],
   "source": [
    "string1 = 'aaaaaannnnnvvcccasiewdndaldfbncdgf'\n",
    "list(Counter(string1)) #list of unique elemnts.."
   ]
  },
  {
   "cell_type": "code",
   "execution_count": 15,
   "metadata": {},
   "outputs": [
    {
     "name": "stdout",
     "output_type": "stream",
     "text": [
      "Counter({'a': 5, 's': 2, 'i': 2, 'r': 1, ' ': 1, 'n': 1, 'g': 1, 'j': 1, 'l': 1})\n",
      "['s', 'a', 'i', 'r', ' ', 'n', 'g', 'j', 'l']\n",
      "{'s', ' ', 'a', 'l', 'i', 'g', 'r', 'n', 'j'}\n",
      "{'s': 2, 'a': 5, 'i': 2, 'r': 1, ' ': 1, 'n': 1, 'g': 1, 'j': 1, 'l': 1}\n",
      "dict_items([('s', 2), ('a', 5), ('i', 2), ('r', 1), (' ', 1), ('n', 1), ('g', 1), ('j', 1), ('l', 1)])\n"
     ]
    }
   ],
   "source": [
    "#some methods on counter object..\n",
    "name = 'saisri angajala'\n",
    "c = Counter(name) #here c is counter object...\n",
    "print(c)\n",
    "sum(c.values()) #gives teh sum of all values in dict\n",
    "print(list(c)) #convert into a list containing unique elements..\n",
    "print(set(c)) #convert into sset\n",
    "print(dict(c)) #covert to dict\n",
    "print(c.items()) #convert into a list of (ele,count) pairs"
   ]
  },
  {
   "cell_type": "code",
   "execution_count": 16,
   "metadata": {},
   "outputs": [
    {
     "data": {
      "text/plain": [
       "'C:\\\\Users\\\\angaj\\\\PYTHON'"
      ]
     },
     "execution_count": 16,
     "metadata": {},
     "output_type": "execute_result"
    }
   ],
   "source": [
    "pwd #pwd is used to finout present working directory"
   ]
  },
  {
   "cell_type": "code",
   "execution_count": 17,
   "metadata": {},
   "outputs": [],
   "source": [
    "#os module..\n",
    "#it is used to readand write the files ,and move files around directories in the comp\n",
    "file = open('pratice.txt','w') #creating a file and opening pratice.txt in writing mode..\n",
    "file.write('this is saisri angajala,gudimalkapuram') #overwriting the file..\n",
    "file.close() #closing the file..\n",
    "#if we check in the present working directory you would find the practice.txt file..\n"
   ]
  },
  {
   "cell_type": "code",
   "execution_count": 18,
   "metadata": {},
   "outputs": [
    {
     "data": {
      "text/plain": [
       "'C:\\\\Users\\\\angaj\\\\PYTHON'"
      ]
     },
     "execution_count": 18,
     "metadata": {},
     "output_type": "execute_result"
    }
   ],
   "source": [
    "import os\n",
    "os.getcwd() #getcwd() get current working directory..\n"
   ]
  },
  {
   "cell_type": "code",
   "execution_count": 19,
   "metadata": {},
   "outputs": [
    {
     "data": {
      "text/plain": [
       "['.ipynb_checkpoints',\n",
       " '.jovianrc',\n",
       " 'advanced datatypes and data structures',\n",
       " 'built in functions in python....ipynb',\n",
       " 'cheguvera_signature',\n",
       " 'Datascience libraries',\n",
       " 'doc strings..ipynb',\n",
       " 'file handling in python.ipynb',\n",
       " 'file1.txt',\n",
       " 'file2.txt',\n",
       " \"GUI's in python\",\n",
       " 'modules in python.ipynb',\n",
       " 'pavan_kalyan_photo',\n",
       " 'pavan_modi_photo',\n",
       " 'pratice.txt',\n",
       " 'projects',\n",
       " 'pyhron web scrapping practice.ipynb',\n",
       " 'python  web scraping.ipynb',\n",
       " 'python classroom.ipynb',\n",
       " 'saisri.txt',\n",
       " 'Untitled.ipynb',\n",
       " 'untitled.txt',\n",
       " 'web scraping of books in toscrape.com website...ipynb',\n",
       " 'working with images in python']"
      ]
     },
     "execution_count": 19,
     "metadata": {},
     "output_type": "execute_result"
    }
   ],
   "source": [
    "os.listdir() #listdir mean list of items in current working directory.."
   ]
  },
  {
   "cell_type": "code",
   "execution_count": 20,
   "metadata": {},
   "outputs": [
    {
     "data": {
      "text/plain": [
       "['.ipynb_checkpoints',\n",
       " '.jovianrc',\n",
       " 'advanced datatypes and data structures',\n",
       " 'built in functions in python....ipynb',\n",
       " 'cheguvera_signature',\n",
       " 'Datascience libraries',\n",
       " 'doc strings..ipynb',\n",
       " 'file handling in python.ipynb',\n",
       " 'file1.txt',\n",
       " 'file2.txt',\n",
       " \"GUI's in python\",\n",
       " 'modules in python.ipynb',\n",
       " 'pavan_kalyan_photo',\n",
       " 'pavan_modi_photo',\n",
       " 'pratice.txt',\n",
       " 'projects',\n",
       " 'pyhron web scrapping practice.ipynb',\n",
       " 'python  web scraping.ipynb',\n",
       " 'python classroom.ipynb',\n",
       " 'saisri.txt',\n",
       " 'Untitled.ipynb',\n",
       " 'untitled.txt',\n",
       " 'web scraping of books in toscrape.com website...ipynb',\n",
       " 'working with images in python']"
      ]
     },
     "execution_count": 20,
     "metadata": {},
     "output_type": "execute_result"
    }
   ],
   "source": [
    "os.listdir('.')#also gives the items in pwd.. "
   ]
  },
  {
   "cell_type": "code",
   "execution_count": 21,
   "metadata": {},
   "outputs": [
    {
     "data": {
      "text/plain": [
       "['.ipynb_checkpoints',\n",
       " 'Anaconda3-2020.02-Windows-x86_64.exe',\n",
       " 'avast_free_antivirus_setup_online.exe',\n",
       " 'best-hd-wallpapers-27.jpg',\n",
       " 'ChromeSetup.exe',\n",
       " 'codeblocks-20.03mingw-setup.exe',\n",
       " 'desktop.ini',\n",
       " 'Git-2.28.0-64-bit (1).exe',\n",
       " 'Git-2.28.0-64-bit.exe',\n",
       " 'Knights-Gambit.exe',\n",
       " 'maa_radha_krishna_images.jpg',\n",
       " 'McAfee_Installer_serial_jHvwxQi8rUbGAMvUg1UESw2_key_affid_773_akey.exe',\n",
       " 'McAfee_Installer_serial_OG4ZiPixZG7yxDQMuG03qQ2_key_affid_773_akey.exe',\n",
       " 'Positive-Attitude-Wallpaper-Desktop-2.jpg',\n",
       " 'python-3.8.5.exe',\n",
       " 'Radha-Krishna-HD-wallpaper-1080p.jpg',\n",
       " 'sai.py',\n",
       " 'saisri.jpg',\n",
       " 'Sublime Text Build 3211 x64 Setup (1).exe',\n",
       " 'Sublime Text Build 3211 x64 Setup.exe',\n",
       " 'Untitled.ipynb',\n",
       " 'vlc-3.0.11-win64.exe',\n",
       " 'WhatsAppSetup.exe']"
      ]
     },
     "execution_count": 21,
     "metadata": {},
     "output_type": "execute_result"
    }
   ],
   "source": [
    "#if you want to find out the list of items in another directory ,we should write its path in listdir()\n",
    "os.listdir('C:\\\\Users\\\\angaj\\\\Downloads') #now i had given the path of downloads directory,it would list the items in \n",
    "#download directory.."
   ]
  },
  {
   "cell_type": "code",
   "execution_count": 43,
   "metadata": {},
   "outputs": [],
   "source": [
    "#creatung new directories,..\n",
    "os.makedirs('new_directory')\n",
    "#it will create the new directory in pwd.."
   ]
  },
  {
   "cell_type": "code",
   "execution_count": 22,
   "metadata": {},
   "outputs": [
    {
     "data": {
      "text/plain": [
       "'C:\\\\Users\\\\angaj\\\\Downloads\\\\saisri.txt'"
      ]
     },
     "execution_count": 22,
     "metadata": {},
     "output_type": "execute_result"
    }
   ],
   "source": [
    "#moving the files from one dir to another \n",
    "#lets create a file in our cwd \n",
    "file = open('saisri.txt','w')\n",
    "file.write('i am saisri angajala')\n",
    "file.close()\n",
    "#now we know that saisri.txt file  is in cwd ,now we will move that into doemloads dir..\n",
    "import shutil\n",
    "shutil.move('saisri.txt','C:\\\\Users\\\\angaj\\\\Downloads') #here move method take two arguments,one is source file ,another is \n",
    "#destination,i had given source as my txt file and dest as download dir..\n",
    "#if we check in download dir you would find txt file..lets us see it by using os.listdir()"
   ]
  },
  {
   "cell_type": "code",
   "execution_count": 23,
   "metadata": {},
   "outputs": [
    {
     "data": {
      "text/plain": [
       "['.ipynb_checkpoints',\n",
       " 'Anaconda3-2020.02-Windows-x86_64.exe',\n",
       " 'avast_free_antivirus_setup_online.exe',\n",
       " 'best-hd-wallpapers-27.jpg',\n",
       " 'ChromeSetup.exe',\n",
       " 'codeblocks-20.03mingw-setup.exe',\n",
       " 'desktop.ini',\n",
       " 'Git-2.28.0-64-bit (1).exe',\n",
       " 'Git-2.28.0-64-bit.exe',\n",
       " 'Knights-Gambit.exe',\n",
       " 'maa_radha_krishna_images.jpg',\n",
       " 'McAfee_Installer_serial_jHvwxQi8rUbGAMvUg1UESw2_key_affid_773_akey.exe',\n",
       " 'McAfee_Installer_serial_OG4ZiPixZG7yxDQMuG03qQ2_key_affid_773_akey.exe',\n",
       " 'Positive-Attitude-Wallpaper-Desktop-2.jpg',\n",
       " 'python-3.8.5.exe',\n",
       " 'Radha-Krishna-HD-wallpaper-1080p.jpg',\n",
       " 'sai.py',\n",
       " 'saisri.jpg',\n",
       " 'saisri.txt',\n",
       " 'Sublime Text Build 3211 x64 Setup (1).exe',\n",
       " 'Sublime Text Build 3211 x64 Setup.exe',\n",
       " 'Untitled.ipynb',\n",
       " 'vlc-3.0.11-win64.exe',\n",
       " 'WhatsAppSetup.exe']"
      ]
     },
     "execution_count": 23,
     "metadata": {},
     "output_type": "execute_result"
    }
   ],
   "source": [
    "os.listdir('C:\\\\Users\\\\angaj\\\\Downloads')"
   ]
  },
  {
   "cell_type": "code",
   "execution_count": 24,
   "metadata": {},
   "outputs": [],
   "source": [
    "#deleting files..\n",
    "#os module provide 3 methods to delete the file,they are os.rmdir() ,\n",
    "#but send2trash method is best among them..\n",
    "import send2trash\n",
    "send2trash.send2trash('C:\\\\Users\\\\angaj\\\\Downloads\\\\saisri.txt')#we are sending the saisri.txt file in downloads to trash,\n",
    "#which we can get back when we needed\n",
    "\n"
   ]
  },
  {
   "cell_type": "code",
   "execution_count": 25,
   "metadata": {},
   "outputs": [
    {
     "data": {
      "text/plain": [
       "['.ipynb_checkpoints',\n",
       " 'Anaconda3-2020.02-Windows-x86_64.exe',\n",
       " 'avast_free_antivirus_setup_online.exe',\n",
       " 'best-hd-wallpapers-27.jpg',\n",
       " 'ChromeSetup.exe',\n",
       " 'codeblocks-20.03mingw-setup.exe',\n",
       " 'desktop.ini',\n",
       " 'Git-2.28.0-64-bit (1).exe',\n",
       " 'Git-2.28.0-64-bit.exe',\n",
       " 'Knights-Gambit.exe',\n",
       " 'maa_radha_krishna_images.jpg',\n",
       " 'McAfee_Installer_serial_jHvwxQi8rUbGAMvUg1UESw2_key_affid_773_akey.exe',\n",
       " 'McAfee_Installer_serial_OG4ZiPixZG7yxDQMuG03qQ2_key_affid_773_akey.exe',\n",
       " 'Positive-Attitude-Wallpaper-Desktop-2.jpg',\n",
       " 'python-3.8.5.exe',\n",
       " 'Radha-Krishna-HD-wallpaper-1080p.jpg',\n",
       " 'sai.py',\n",
       " 'saisri.jpg',\n",
       " 'Sublime Text Build 3211 x64 Setup (1).exe',\n",
       " 'Sublime Text Build 3211 x64 Setup.exe',\n",
       " 'Untitled.ipynb',\n",
       " 'vlc-3.0.11-win64.exe',\n",
       " 'WhatsAppSetup.exe']"
      ]
     },
     "execution_count": 25,
     "metadata": {},
     "output_type": "execute_result"
    }
   ],
   "source": [
    "import os\n",
    "os.listdir('C:\\\\Users\\\\angaj\\\\Downloads') #you cannnot see saisri.txt after using send2trash.."
   ]
  },
  {
   "cell_type": "code",
   "execution_count": 26,
   "metadata": {},
   "outputs": [
    {
     "name": "stdout",
     "output_type": "stream",
     "text": [
      "3.141592653589793\n",
      "2.718281828459045\n"
     ]
    }
   ],
   "source": [
    "#math maodule ..\n",
    "import math\n",
    "#first we would see mathematical constants like pi,e,etc\n",
    "print(math.pi)\n",
    "print(math.e)"
   ]
  },
  {
   "cell_type": "code",
   "execution_count": 27,
   "metadata": {},
   "outputs": [
    {
     "name": "stdout",
     "output_type": "stream",
     "text": [
      "2.0\n",
      "0.30102999566398114\n",
      "0.6931471805599453\n"
     ]
    }
   ],
   "source": [
    "#logartham\n",
    "print(math.log(100,10))#it tkaes two parameters one is num and other is base,here 100 is num and 1o is basei.e log of 100 with base 10\n",
    "print(math.log(2,10)) #log 2 with base 10\n",
    "print(math.log(2,math.e))#log 2 with base e"
   ]
  },
  {
   "cell_type": "code",
   "execution_count": 28,
   "metadata": {},
   "outputs": [
    {
     "name": "stdout",
     "output_type": "stream",
     "text": [
      "-0.9524129804151563\n",
      "-0.9880316240928618\n"
     ]
    }
   ],
   "source": [
    "#trignometric funct\n",
    "print(math.cos(60)) #note here 60 is in radians ,if we convert into degree we would get 0.5\n",
    "print(math.sin(30))"
   ]
  },
  {
   "cell_type": "code",
   "execution_count": 29,
   "metadata": {},
   "outputs": [
    {
     "name": "stdout",
     "output_type": "stream",
     "text": [
      "-0.9558020031938408\n",
      "-0.4097717985741408\n"
     ]
    }
   ],
   "source": [
    "print(math.cos(math.degrees(1.047)))\n",
    "print(math.sin(math.degrees(30)))"
   ]
  },
  {
   "cell_type": "code",
   "execution_count": 30,
   "metadata": {},
   "outputs": [
    {
     "name": "stdout",
     "output_type": "stream",
     "text": [
      "60.00000000000001\n"
     ]
    }
   ],
   "source": [
    "rad_angle = math.acos(0.5) \n",
    "#acos is nothing but cos inverse of 0.5,gives the angle value in radians,if we want in degrees onvert it using degree func\n",
    "print(math.degrees(rad_angle)) #it gives 60 degrees"
   ]
  },
  {
   "cell_type": "markdown",
   "metadata": {},
   "source": [
    "#regular expression module..\n",
    "\n",
    "suppose if we want to check whether a string present in some kind of text or not we use \n",
    "\n",
    "for string in text\n",
    "\n",
    "it gives a boolean ,but we cannot find its location in the text and how many it occurred in txt ,in that case regular expression\n",
    "\n",
    "comes into picture...\n",
    "\n",
    "we will import re (regular expression ) library tehn we use the search func to find it's location...\n",
    "\n",
    "search func gives only the location 1st occurance ,if we want all the occurances we use findall func,it gives list of all \n",
    "\n",
    "occurances..\n",
    "\n",
    "if we want the location sof all occurances we should loop in the finall func..\n",
    "\n",
    "lets code it"
   ]
  },
  {
   "cell_type": "code",
   "execution_count": 31,
   "metadata": {},
   "outputs": [
    {
     "name": "stdout",
     "output_type": "stream",
     "text": [
      "<re.Match object; span=(12, 20), match='angajala'>\n",
      "(12, 20)\n"
     ]
    }
   ],
   "source": [
    "txt = 'i am saisri angajala,my dad is srinivas angajala ,my mom is anuradha angajala'\n",
    "import re \n",
    "ang = re.search('angajala' ,txt) #search takes two arguments ,one is string ,and other in which we want to check..\n",
    "#see the output,it gives that match found &span is from 12 20 .it mean angajala is occupies indices from 12 to 20..\n",
    "#note this only given the location of 1st occurance..\n",
    "#if the str is not part of it ,it will give none\n",
    "print(ang)\n",
    "print(ang.span()) #span func is used inorder to get span .."
   ]
  },
  {
   "cell_type": "code",
   "execution_count": 32,
   "metadata": {},
   "outputs": [
    {
     "data": {
      "text/plain": [
       "NoneType"
      ]
     },
     "execution_count": 32,
     "metadata": {},
     "output_type": "execute_result"
    }
   ],
   "source": [
    "type(re.search('yamuna',txt)) #as yamuna not part of txt,it return none type.."
   ]
  },
  {
   "cell_type": "code",
   "execution_count": 33,
   "metadata": {},
   "outputs": [
    {
     "name": "stdout",
     "output_type": "stream",
     "text": [
      "['angajala', 'angajala', 'angajala']\n"
     ]
    }
   ],
   "source": [
    "#findall func..\n",
    "asi = re.findall('angajala',txt)#as i said earlier findall func returns list of all occurances,str angajala occured 3 times ..\n",
    "print(asi)\n"
   ]
  },
  {
   "cell_type": "code",
   "execution_count": 34,
   "metadata": {},
   "outputs": [
    {
     "data": {
      "text/plain": [
       "<callable_iterator at 0x2a553e19308>"
      ]
     },
     "execution_count": 34,
     "metadata": {},
     "output_type": "execute_result"
    }
   ],
   "source": [
    "#if we want o find out the location of all teh occurances we use finditer() fun \n",
    "re.finditer('angajala',txt) #we should loop through it inorder to find out loc"
   ]
  },
  {
   "cell_type": "code",
   "execution_count": 35,
   "metadata": {},
   "outputs": [
    {
     "name": "stdout",
     "output_type": "stream",
     "text": [
      "<re.Match object; span=(12, 20), match='angajala'>\n",
      "(12, 20)\n",
      "<re.Match object; span=(40, 48), match='angajala'>\n",
      "(40, 48)\n",
      "<re.Match object; span=(69, 77), match='angajala'>\n",
      "(69, 77)\n"
     ]
    }
   ],
   "source": [
    "#finding the location of each occur\n",
    "for loc in re.finditer('angajala',txt) :\n",
    "    print(loc)\n",
    "    print(loc.span())    "
   ]
  },
  {
   "cell_type": "markdown",
   "metadata": {},
   "source": [
    "suppose if we want to check some kind of patteren in the file,we actually do not know what we want to check,but we know how it looks like,then charcter identifiers and quantifiers some into picture..\n"
   ]
  },
  {
   "cell_type": "markdown",
   "metadata": {},
   "source": [
    " CHARACTER IDENTIFIERS\n",
    "\n",
    " character identifier                                notation            pattern                       match\n",
    "\n",
    "   digits                                               \\d                \\d\\d\\d-\\d\\d                  234-45\n",
    "Alpha numeric(includes alpha &nums & underscores)      \\w                 \\w-\\w\\w\\w                   A-b_1(both cptail&small)\n",
    " non_digits(includes alpha both cap & small)            \\D                 \\D\\D\\D                      Abc\n",
    " white space                                            \\s                  \\D\\s\\D\\s\\D                 a b c\n",
    " non_Alphanumerics                                      \\W                 \\W\\W\\W\\W                    +-*=\n"
   ]
  },
  {
   "cell_type": "markdown",
   "metadata": {},
   "source": [
    "Quantifiers...\n",
    "\n",
    "quantifiers                 Description                            pattern                        match\n",
    " {3}                        3 times of any char identifier         \\d{3}                          123\n",
    " {2,4}                      pattern in the range of 2 to 4          \\w{2,4}                       A_b (3 alpha numericals)\n",
    " {3,}                       3 or more identifiers..                 \\D{3,}                        saisri (6 non digit identi )\n",
    " +                         one or more...                            \\w+                          s or S_qe or s_12_the\n",
    " *                         zero or more                              A*B*C*                       AACCC(A occured 2,B 0,& C 3)"
   ]
  },
  {
   "cell_type": "code",
   "execution_count": 38,
   "metadata": {},
   "outputs": [
    {
     "data": {
      "text/plain": [
       "<re.Match object; span=(16, 26), match='8688136687'>"
      ]
     },
     "execution_count": 38,
     "metadata": {},
     "output_type": "execute_result"
    }
   ],
   "source": [
    "txt = 'my phone num is 8688136687'\n",
    "re.search(r'\\d{10}',txt) #ireespective of nums ,if it satisfy the pattern it returns it..\n",
    "#NOTE: here we use r'' because to clarify that we are searching for pattern in regular expressions..\n",
    "#if we skip that ,python may think that it is like \\n or \\t ..so we don't get teh desired results.."
   ]
  },
  {
   "cell_type": "code",
   "execution_count": 39,
   "metadata": {},
   "outputs": [
    {
     "data": {
      "text/plain": [
       "<re.Match object; span=(10, 20), match='8688136687'>"
      ]
     },
     "execution_count": 39,
     "metadata": {},
     "output_type": "execute_result"
    }
   ],
   "source": [
    "txt = 'my num is 8688136687,my sis num is 9390139609,my dad num is 9502872355,my mom num is 9542809281,my frd num is 9701415991'\n",
    "re.search(r'\\d{10}',txt) #it gives only 1 st match "
   ]
  },
  {
   "cell_type": "code",
   "execution_count": 40,
   "metadata": {},
   "outputs": [
    {
     "data": {
      "text/plain": [
       "['8688136687', '9390139609', '9502872355', '9542809281', '9701415991']"
      ]
     },
     "execution_count": 40,
     "metadata": {},
     "output_type": "execute_result"
    }
   ],
   "source": [
    "re.findall(r'\\d{10}',txt)"
   ]
  },
  {
   "cell_type": "code",
   "execution_count": 41,
   "metadata": {},
   "outputs": [
    {
     "data": {
      "text/plain": [
       "<re.Match object; span=(19, 32), match='1800-141-2771'>"
      ]
     },
     "execution_count": 41,
     "metadata": {},
     "output_type": "execute_result"
    }
   ],
   "source": [
    "landline  = 'my landline num is 1800-141-2771'\n",
    "re.search(r'\\d{4}-\\d{3}-\\d{4}' ,landline)\n",
    "#suppose if we want to garb the 1800 part or anything else in 141 2771,we use compile method.."
   ]
  },
  {
   "cell_type": "code",
   "execution_count": 42,
   "metadata": {},
   "outputs": [
    {
     "name": "stdout",
     "output_type": "stream",
     "text": [
      "1800-141-2771\n",
      "1800\n",
      "141\n",
      "2771\n"
     ]
    },
    {
     "ename": "IndexError",
     "evalue": "no such group",
     "output_type": "error",
     "traceback": [
      "\u001b[1;31m---------------------------------------------------------------------------\u001b[0m",
      "\u001b[1;31mIndexError\u001b[0m                                Traceback (most recent call last)",
      "\u001b[1;32m<ipython-input-42-648f99fe6fd6>\u001b[0m in \u001b[0;36m<module>\u001b[1;34m\u001b[0m\n\u001b[0;32m      5\u001b[0m \u001b[0mprint\u001b[0m\u001b[1;33m(\u001b[0m\u001b[0mgrp_nums\u001b[0m\u001b[1;33m.\u001b[0m\u001b[0mgroup\u001b[0m\u001b[1;33m(\u001b[0m\u001b[1;36m2\u001b[0m\u001b[1;33m)\u001b[0m\u001b[1;33m)\u001b[0m \u001b[1;31m#group2\u001b[0m\u001b[1;33m\u001b[0m\u001b[1;33m\u001b[0m\u001b[0m\n\u001b[0;32m      6\u001b[0m \u001b[0mprint\u001b[0m\u001b[1;33m(\u001b[0m\u001b[0mgrp_nums\u001b[0m\u001b[1;33m.\u001b[0m\u001b[0mgroup\u001b[0m\u001b[1;33m(\u001b[0m\u001b[1;36m3\u001b[0m\u001b[1;33m)\u001b[0m\u001b[1;33m)\u001b[0m  \u001b[1;31m#group3\u001b[0m\u001b[1;33m\u001b[0m\u001b[1;33m\u001b[0m\u001b[0m\n\u001b[1;32m----> 7\u001b[1;33m \u001b[0mprint\u001b[0m\u001b[1;33m(\u001b[0m\u001b[0mgrp_nums\u001b[0m\u001b[1;33m.\u001b[0m\u001b[0mgroup\u001b[0m\u001b[1;33m(\u001b[0m\u001b[1;36m4\u001b[0m\u001b[1;33m)\u001b[0m\u001b[1;33m)\u001b[0m \u001b[1;31m#actually we don't have group ,it would give an error\u001b[0m\u001b[1;33m\u001b[0m\u001b[1;33m\u001b[0m\u001b[0m\n\u001b[0m",
      "\u001b[1;31mIndexError\u001b[0m: no such group"
     ]
    }
   ],
   "source": [
    "my_pattern = re.compile(r'(\\d{4})-(\\d{3})-(\\d{4})') #we use () because we are determining that we are grouping it.we have 3 grps\n",
    "grp_nums = re.search(my_pattern,landline)\n",
    "print(grp_nums.group()) #group func is used to findout what we searched for..\n",
    "print(grp_nums.group(1)) #unless like index starts with 0,here starts with 1.\n",
    "print(grp_nums.group(2)) #group2\n",
    "print(grp_nums.group(3))  #group3\n",
    "print(grp_nums.group(4)) #actually we don't have group ,it would give an error"
   ]
  },
  {
   "cell_type": "code",
   "execution_count": null,
   "metadata": {},
   "outputs": [],
   "source": [
    "#timing your python module...\n",
    "#suppose we would check which func will take more time to execute \n",
    "def fun_one(n) :\n",
    "    return [str(num) for num in range(n)]\n",
    "def fun_two(n) :\n",
    "    return list(map(str,range(n)))\n"
   ]
  },
  {
   "cell_type": "code",
   "execution_count": null,
   "metadata": {},
   "outputs": [],
   "source": [
    "import time\n",
    "start_time =time.time()\n",
    "fun_one(1000000)\n",
    "end_time = time.time()\n",
    "elasped_time = start_time - end_time\n",
    "elasped_time"
   ]
  },
  {
   "cell_type": "code",
   "execution_count": null,
   "metadata": {},
   "outputs": [],
   "source": [
    "import time\n",
    "start_time =time.time()\n",
    "fun_two(1000000)\n",
    "end_time = time.time()\n",
    "elasped_time = start_time - end_time\n",
    "elasped_time"
   ]
  },
  {
   "cell_type": "code",
   "execution_count": null,
   "metadata": {},
   "outputs": [],
   "source": [
    "#see the time difference b/w them ,seems like second func is fast..let's try in another way..\n",
    "import timeit\n",
    "#timeit takes 3 arguments,1.statement(stmt),2.setup(setup),3.number of times...\n",
    "stmt = ''' \n",
    "fun_one(100) '''\n",
    "setup1 = '''\n",
    "def fun_one(n) :\n",
    "    return [str(num) for num in range(n)] '''\n",
    "stmt2 = ''' \n",
    "fun_two(100)\n",
    "            '''\n",
    "setup2 = ''' \n",
    "def fun_two(n) :\n",
    "    return list(map(str,range(n))) '''\n"
   ]
  },
  {
   "cell_type": "code",
   "execution_count": null,
   "metadata": {},
   "outputs": [],
   "source": [
    "func1_time = timeit.timeit(stmt,setup1,number = 100000)\n",
    "func1_time"
   ]
  },
  {
   "cell_type": "code",
   "execution_count": null,
   "metadata": {},
   "outputs": [],
   "source": [
    "func2_time = timeit.timeit(stmt2,setup2,number = 100000)\n",
    "func2_time"
   ]
  },
  {
   "cell_type": "code",
   "execution_count": null,
   "metadata": {},
   "outputs": [],
   "source": [
    "#see again func_two took lesser time.."
   ]
  },
  {
   "cell_type": "code",
   "execution_count": null,
   "metadata": {},
   "outputs": [],
   "source": [
    "def fun_one(n) :\n",
    "    return [str(num) for num in range(n)]\n",
    "def fun_two(n) :\n",
    "    return list(map(str,range(n)))\n"
   ]
  },
  {
   "cell_type": "code",
   "execution_count": null,
   "metadata": {},
   "outputs": [],
   "source": [
    "%%timeit\n",
    "fun_one(1000000)"
   ]
  },
  {
   "cell_type": "code",
   "execution_count": null,
   "metadata": {},
   "outputs": [],
   "source": [
    "%%timeit\n",
    "fun_two(1000000)"
   ]
  },
  {
   "cell_type": "code",
   "execution_count": null,
   "metadata": {},
   "outputs": [],
   "source": [
    "#see the time diff again.."
   ]
  },
  {
   "cell_type": "code",
   "execution_count": null,
   "metadata": {},
   "outputs": [],
   "source": [
    "#zipping and unzipping files in python,..\n",
    "#suppose we have files which we want send through gamil,bt they are more than limit to send so we should compress them..\n",
    "#first we create two files..\n",
    "file1 = open('file1.txt' ,'w+')\n",
    "file1.write('i am saisri angajala')\n",
    "file1.close() #you find file1.txt in the cwd\n"
   ]
  },
  {
   "cell_type": "code",
   "execution_count": null,
   "metadata": {},
   "outputs": [],
   "source": [
    "import os\n",
    "os.listdir()"
   ]
  },
  {
   "cell_type": "code",
   "execution_count": null,
   "metadata": {},
   "outputs": [],
   "source": [
    "file2 = open('file2.txt' ,'w+')\n",
    "file2.write('i am saisri angajala')\n",
    "file2.close() #you find file1.txt in the cwd\n",
    "#not taht much imp ,skip it.."
   ]
  },
  {
   "cell_type": "code",
   "execution_count": null,
   "metadata": {},
   "outputs": [],
   "source": []
  }
 ],
 "metadata": {
  "kernelspec": {
   "display_name": "Python 3",
   "language": "python",
   "name": "python3"
  },
  "language_info": {
   "codemirror_mode": {
    "name": "ipython",
    "version": 3
   },
   "file_extension": ".py",
   "mimetype": "text/x-python",
   "name": "python",
   "nbconvert_exporter": "python",
   "pygments_lexer": "ipython3",
   "version": "3.7.6"
  }
 },
 "nbformat": 4,
 "nbformat_minor": 4
}
