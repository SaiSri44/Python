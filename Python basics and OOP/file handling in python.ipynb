{
 "cells": [
  {
   "cell_type": "markdown",
   "metadata": {},
   "source": [
    "## File Handling\n",
    "THERE ARE THREE WAYS TO CREATE A FILE ,FIRST METHOD\n",
    "\n",
    ".open('file_name,mode='w') ,opening file in write(w) mode creates a file,if it doesn't exist.\n",
    "\n",
    "if its exist ,it opens in writing mode...we can overwrite the file by using file_obj.write()\n",
    "\n",
    "func,this will rewrite the file content,we cannot read the content in file ,in write mode...\n",
    "\n",
    "open('file_name',mode='w+') opening file in write(w+) mode creates a file,if it doesn't exist.\n",
    "\n",
    "if its exist ,it opens in writing mode...we can overwrite the file by using file_obj.write()\n",
    "\n",
    "func,this will rewrite the file content,we can read the content in file ,in w+ mode...\n",
    "\n",
    "\n",
    "file = open('saisri.txt',mode = 'r+') this only opens file if and if only if its exists,\n",
    "\n",
    "otherwise it would give error..this also alows both reading & writing..\n",
    "\n",
    "suppose once we read the file,the cursor moves to end ,so when we again try to read it we \n",
    "\n",
    "get back a empty string,so we must set it back to start of file,this is done by file_obj.seek(0)\n",
    "\n",
    "func..\n",
    "\n",
    "to open file only in write mode we use ,open('file_name',mode='w'),no reading is allowed.\n",
    "\n",
    "to open file only in read mode we use ,open('file_name',mode='r'),here no overwriting is allowed\n",
    "\n",
    "to append the file only at the ends ,we use open('file_name',mode='a') this allows us to write \n",
    "the lines only at the end of the file.. it doesn't allow to overwrite the existing lines..\n",
    "\n",
    "writing and reading mode..can create new files.."
   ]
  },
  {
   "cell_type": "code",
   "execution_count": 1,
   "metadata": {},
   "outputs": [
    {
     "name": "stdout",
     "output_type": "stream",
     "text": [
      "i am saisri angajala\n",
      "i am saisri angajala\n",
      "i am saisri angajala\n",
      "i had added some content..\n"
     ]
    }
   ],
   "source": [
    "\n",
    "file = open('saisri.txt',mode = 'w+')\n",
    "file.write('i am saisri angajala')\n",
    "file.seek(0)\n",
    "contents = file.read()\n",
    "print(contents) \n",
    "\n",
    "#reading mode\n",
    "file1 = open('saisri.txt','r')\n",
    "file.seek(0) #o must be present because ,seek func takes atleast one arg\n",
    "print(file.read())\n",
    "\n",
    "#reading and writing mode ...cannot create new files..can overwrite..\n",
    "file2 = open('saisri.txt','r+')\n",
    "file.write('\\ni had added some content..') #as of know cursor is at end ,these will add to file\n",
    "file.seek(0)\n",
    "print(file.read())\n",
    "\n"
   ]
  },
  {
   "cell_type": "code",
   "execution_count": 3,
   "metadata": {},
   "outputs": [
    {
     "name": "stdout",
     "output_type": "stream",
     "text": [
      " i had overwriten the file..\n"
     ]
    }
   ],
   "source": [
    "#before file had content i am saisri angajala i added some content\n",
    "file3 = open('saisri.txt','w')\n",
    "file3.write(' i had overwriten the file..')\n",
    "file3.close()\n",
    "file3 = open('saisri.txt','r')\n",
    "print(file3.read())\n",
    "#now file had content, i had overwriten the file..\n",
    "file3.seek(0)\n",
    "file3.close()"
   ]
  },
  {
   "cell_type": "code",
   "execution_count": 4,
   "metadata": {},
   "outputs": [
    {
     "name": "stdout",
     "output_type": "stream",
     "text": [
      " i had overwriten the file..i just appended this line\n"
     ]
    }
   ],
   "source": [
    "#appending the lines to files..\n",
    "file4 = open('saisri.txt','a')\n",
    "file4.write('i just appended this line')\n",
    "file4.close()\n",
    "file4 = open('saisri.txt','r')\n",
    "print(file4.read())\n",
    "file4.seek(0)\n",
    "file4.close()"
   ]
  },
  {
   "cell_type": "code",
   "execution_count": 5,
   "metadata": {},
   "outputs": [
    {
     "name": "stdout",
     "output_type": "stream",
     "text": [
      " i had overwriten the file..i just appended this line\n"
     ]
    }
   ],
   "source": [
    "# if we use the open fun we need to close the file alawys..we cannot avoid this by using below format\n",
    "with open('saisri.txt','r') as new_file :# in this syntax new_file is varible,and open() is mode in which we want to open file..\n",
    "    print(new_file.read())\n",
    "    new_file.seek(0)\n",
    "  "
   ]
  },
  {
   "cell_type": "code",
   "execution_count": 6,
   "metadata": {},
   "outputs": [
    {
     "data": {
      "text/plain": [
       "[' i had overwriten the file..i just appended this line']"
      ]
     },
     "execution_count": 6,
     "metadata": {},
     "output_type": "execute_result"
    }
   ],
   "source": [
    "# if we want to get all the lines in the file as list we use readlines func\n",
    "file5 = open('saisri.txt','r')\n",
    "file5.readlines()\n"
   ]
  },
  {
   "cell_type": "code",
   "execution_count": null,
   "metadata": {},
   "outputs": [],
   "source": []
  }
 ],
 "metadata": {
  "kernelspec": {
   "display_name": "Python 3",
   "language": "python",
   "name": "python3"
  },
  "language_info": {
   "codemirror_mode": {
    "name": "ipython",
    "version": 3
   },
   "file_extension": ".py",
   "mimetype": "text/x-python",
   "name": "python",
   "nbconvert_exporter": "python",
   "pygments_lexer": "ipython3",
   "version": "3.7.6"
  }
 },
 "nbformat": 4,
 "nbformat_minor": 4
}
